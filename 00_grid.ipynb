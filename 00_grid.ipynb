{
 "cells": [
  {
   "cell_type": "code",
   "execution_count": null,
   "metadata": {},
   "outputs": [],
   "source": [
    "#| default_exp grid"
   ]
  },
  {
   "cell_type": "markdown",
   "metadata": {},
   "source": [
    "# figure-game-solver\n",
    "\n",
    "> API details."
   ]
  },
  {
   "cell_type": "code",
   "execution_count": 61,
   "metadata": {},
   "outputs": [],
   "source": [
    "#|hide\n",
    "from nbdev.showdoc import *\n",
    "from fastcore.utils import *\n",
    "from fastcore.test import *\n",
    "from functools import reduce\n",
    "import time"
   ]
  },
  {
   "cell_type": "code",
   "execution_count": null,
   "metadata": {},
   "outputs": [],
   "source": [
    "#|export\n",
    "class Grid:\n",
    "    def __init__(self, initial_value=None):\n",
    "        if initial_value is not None:\n",
    "            self.grid = initial_value\n",
    "        else:\n",
    "            self.grid=[]\n",
    "            empty_row=[0,0,0,0,0]\n",
    "            for i in range(5):\n",
    "                self.grid.append(empty_row)\n",
    "\n",
    "    def __repr__(self): \n",
    "        return f\"Grid({str(self.grid)})\"\n",
    "\n",
    "    def __str__(self):\n",
    "        s = '\\r\\n'.join([''.join(['{:3}'.format(item) for item in row]) for row in self.grid])\n",
    "        return s"
   ]
  },
  {
   "cell_type": "code",
   "execution_count": null,
   "metadata": {},
   "outputs": [
    {
     "name": "stdout",
     "output_type": "stream",
     "text": [
      "  0  0  0  0  0\n",
      "  0  0  0  0  0\n",
      "  0  0  0  0  0\n",
      "  0  0  0  0  0\n",
      "  0  0  0  0  0\n"
     ]
    }
   ],
   "source": [
    "g = Grid()\n",
    "print(g)"
   ]
  },
  {
   "cell_type": "code",
   "execution_count": null,
   "metadata": {},
   "outputs": [],
   "source": [
    "@patch\n",
    "def __eq__(self:Grid,other:Grid):\n",
    "    return self.grid==other.grid"
   ]
  },
  {
   "cell_type": "code",
   "execution_count": null,
   "metadata": {},
   "outputs": [],
   "source": [
    "test_eq(Grid(),Grid())"
   ]
  },
  {
   "cell_type": "code",
   "execution_count": null,
   "metadata": {},
   "outputs": [
    {
     "name": "stdout",
     "output_type": "stream",
     "text": [
      "  1  1  2  1  3\n",
      "  2  2  4  3  4\n",
      "  1  2  1  4  3\n",
      "  3  2  4  4  1\n",
      "  4  3  4  4  3\n"
     ]
    }
   ],
   "source": [
    "y=1\n",
    "p=2\n",
    "b=3\n",
    "w=4\n",
    "g = Grid([[y,y,p,y,b],[p,p,w,b,w],[y,p,y,w,b],[b,p,w,w,y],[w,b,w,w,b]])\n",
    "print(g)"
   ]
  },
  {
   "cell_type": "code",
   "execution_count": null,
   "metadata": {},
   "outputs": [],
   "source": [
    "test_ne(g,Grid())"
   ]
  },
  {
   "cell_type": "markdown",
   "metadata": {},
   "source": [
    "Add a copy operation so that we can be immutable."
   ]
  },
  {
   "cell_type": "code",
   "execution_count": null,
   "metadata": {},
   "outputs": [],
   "source": [
    "@patch\n",
    "def copy(self:Grid):\n",
    "    return Grid([row[:] for row in self.grid])"
   ]
  },
  {
   "cell_type": "markdown",
   "metadata": {},
   "source": [
    "Try mutating a copy, and check that the original doesn't change."
   ]
  },
  {
   "cell_type": "code",
   "execution_count": null,
   "metadata": {},
   "outputs": [],
   "source": [
    "h = g.copy()\n",
    "test_ne(g.grid[0][0],0)\n",
    "h.grid[0][0]=0\n",
    "test_eq(h.grid[0][0],0)\n",
    "test_ne(g.grid[0][0],0)\n"
   ]
  },
  {
   "cell_type": "markdown",
   "metadata": {},
   "source": [
    "## Grid operations\n",
    "\n",
    "We need to be able to pick a column. \n",
    "When that column is picked, we need to remove the item in the bottom row of that column and any connected items.\n",
    "Then all the remaining items should fall downward in their column.\n",
    "\n",
    "\n",
    "### Remove\n",
    "\n",
    "We start with the remove operation.\n",
    "First of all, a mutational function that is not exported -- just used internally."
   ]
  },
  {
   "cell_type": "code",
   "execution_count": null,
   "metadata": {},
   "outputs": [],
   "source": [
    "def remove_recursive(grid, i:int, j:int, value:int):\n",
    "    grid[i][j]=0\n",
    "    if i>0 and grid[i-1][j]==value:\n",
    "        remove_recursive(grid,i-1,j,value)\n",
    "    if i<4 and grid[i+1][j]==value:\n",
    "        remove_recursive(grid,i+1,j,value)\n",
    "    if j>0 and grid[i][j-1]==value:\n",
    "        remove_recursive(grid,i,j-1,value)\n",
    "    if j<4 and grid[i][j+1]==value:\n",
    "        remove_recursive(grid,i,j+1,value)"
   ]
  },
  {
   "cell_type": "code",
   "execution_count": null,
   "metadata": {},
   "outputs": [],
   "source": [
    "@patch\n",
    "def remove(self:Grid, column:int):\n",
    "    value = self.grid[4][column]\n",
    "    if value==0:\n",
    "        return self\n",
    "    result = self.copy()\n",
    "    remove_recursive(result.grid,4,column,result.grid[4][column])\n",
    "    return result"
   ]
  },
  {
   "cell_type": "markdown",
   "metadata": {},
   "source": [
    "Test the remove method."
   ]
  },
  {
   "cell_type": "code",
   "execution_count": null,
   "metadata": {},
   "outputs": [
    {
     "name": "stdout",
     "output_type": "stream",
     "text": [
      "  1  1  2  1  3\n",
      "  2  2  4  3  4\n",
      "  1  2  1  4  3\n",
      "  3  2  4  4  1\n",
      "  4  3  4  4  3\n",
      "\n",
      "  1  1  2  1  3\n",
      "  2  2  4  3  4\n",
      "  1  2  1  4  3\n",
      "  3  2  4  4  1\n",
      "  0  3  4  4  3\n",
      "\n",
      "  1  1  2  1  3\n",
      "  2  2  4  3  4\n",
      "  1  2  1  0  3\n",
      "  3  2  0  0  1\n",
      "  4  3  0  0  3\n"
     ]
    }
   ],
   "source": [
    "print(g)\n",
    "print()\n",
    "print(g.remove(0))\n",
    "print()\n",
    "print(g.remove(3))"
   ]
  },
  {
   "cell_type": "code",
   "execution_count": null,
   "metadata": {},
   "outputs": [
    {
     "name": "stdout",
     "output_type": "stream",
     "text": [
      "  1  1  2  1  3\n",
      "  2  2  4  3  4\n",
      "  1  2  1  0  3\n",
      "  3  2  0  0  1\n",
      "  4  3  0  0  3\n"
     ]
    }
   ],
   "source": [
    "h=g.remove(3)\n",
    "print(h)"
   ]
  },
  {
   "cell_type": "markdown",
   "metadata": {},
   "source": [
    "### Fall\n",
    "\n",
    "For each cell, choose the next highest non-zero item."
   ]
  },
  {
   "cell_type": "code",
   "execution_count": null,
   "metadata": {},
   "outputs": [],
   "source": [
    "@patch\n",
    "def fall(self:Grid):\n",
    "    result = self.copy()\n",
    "    for j in range(5):\n",
    "        for i in range(4,-1,-1):\n",
    "            # Find first non-zero value at or above row i\n",
    "            if result.grid[i][j]==0:\n",
    "                for k in range(i-1,-1,-1):\n",
    "                    if (result.grid[k][j]!=0):\n",
    "                        result.grid[i][j]=result.grid[k][j]\n",
    "                        result.grid[k][j]=0\n",
    "                        break\n",
    "    return result"
   ]
  },
  {
   "cell_type": "code",
   "execution_count": null,
   "metadata": {},
   "outputs": [
    {
     "name": "stdout",
     "output_type": "stream",
     "text": [
      "  1  1  0  0  3\n",
      "  2  2  0  0  4\n",
      "  1  2  2  0  3\n",
      "  3  2  4  1  1\n",
      "  4  3  1  3  3\n"
     ]
    }
   ],
   "source": [
    "j = h.fall()\n",
    "print(j)\n"
   ]
  },
  {
   "cell_type": "code",
   "execution_count": null,
   "metadata": {},
   "outputs": [],
   "source": [
    "@patch\n",
    "def pick(self:Grid, column:int):\n",
    "    removed = self.remove(column)\n",
    "    fallen = removed.fall()\n",
    "    return fallen"
   ]
  },
  {
   "cell_type": "code",
   "execution_count": null,
   "metadata": {},
   "outputs": [
    {
     "name": "stdout",
     "output_type": "stream",
     "text": [
      "  1  1  0  0  3\n",
      "  2  2  0  0  4\n",
      "  1  2  2  0  3\n",
      "  3  2  4  1  1\n",
      "  4  3  1  3  3\n"
     ]
    }
   ],
   "source": [
    "h = g.pick(3)\n",
    "print(h)\n"
   ]
  },
  {
   "cell_type": "markdown",
   "metadata": {},
   "source": [
    "A grid of all zeroes should have `is_zero()` return True."
   ]
  },
  {
   "cell_type": "code",
   "execution_count": null,
   "metadata": {},
   "outputs": [],
   "source": [
    "@patch\n",
    "def is_zero(self:Grid):\n",
    "    for i in range(5):\n",
    "        for j in range(5):\n",
    "            if self.grid[i][j] != 0:\n",
    "                return False\n",
    "    return True"
   ]
  },
  {
   "cell_type": "code",
   "execution_count": null,
   "metadata": {},
   "outputs": [],
   "source": [
    "test_eq(Grid().is_zero(),True)"
   ]
  },
  {
   "cell_type": "code",
   "execution_count": null,
   "metadata": {},
   "outputs": [],
   "source": [
    "@patch\n",
    "def picks(self:Grid,columns):\n",
    "    return reduce(lambda a,b : a.pick(b), columns, self)"
   ]
  },
  {
   "cell_type": "code",
   "execution_count": null,
   "metadata": {},
   "outputs": [
    {
     "name": "stdout",
     "output_type": "stream",
     "text": [
      "  1  0  0  0  0\n",
      "  2  0  0  0  0\n",
      "  1  0  0  0  3\n",
      "  3  0  4  1  3\n",
      "  4  1  1  3  1\n"
     ]
    }
   ],
   "source": [
    "h = g.picks([4,3,1,1])\n",
    "print(h)"
   ]
  },
  {
   "cell_type": "code",
   "execution_count": null,
   "metadata": {},
   "outputs": [],
   "source": [
    "g_pick_4311_expected = Grid([[1,0,0,0,0],[2,0,0,0,0],[1,0,0,0,3],[3,0,4,1,3],[4,1,1,3,1]])\n",
    "assert(h.grid == g_pick_4311_expected.grid)"
   ]
  },
  {
   "cell_type": "markdown",
   "metadata": {},
   "source": [
    "## Solver\n",
    "\n",
    "Now the grid class is working, we can start looking at how to construct a solution. The first thing to try is a breadth-first search."
   ]
  },
  {
   "cell_type": "code",
   "execution_count": null,
   "metadata": {},
   "outputs": [
    {
     "name": "stdout",
     "output_type": "stream",
     "text": [
      "  0  0  0  0  0\n",
      "  0  0  0  0  0\n",
      "  0  0  0  0  0\n",
      "  0  0  0  0  0\n",
      "  0  0  0  0  0\n",
      "True\n"
     ]
    }
   ],
   "source": [
    "g0 = Grid()\n",
    "print(g0)\n",
    "print(g0.is_zero())"
   ]
  },
  {
   "cell_type": "code",
   "execution_count": null,
   "metadata": {},
   "outputs": [
    {
     "name": "stdout",
     "output_type": "stream",
     "text": [
      "  0  0  0  0  0\n",
      "  0  0  0  0  0\n",
      "  0  0  0  0  0\n",
      "  0  0  0  0  0\n",
      "  0  0  3  0  0\n"
     ]
    }
   ],
   "source": [
    "g1 = Grid([[0,0,0,0,0],[0,0,0,0,0],[0,0,0,0,0],[0,0,0,0,0],[0,0,3,0,0]])\n",
    "print(g1)"
   ]
  },
  {
   "cell_type": "code",
   "execution_count": null,
   "metadata": {},
   "outputs": [
    {
     "name": "stdout",
     "output_type": "stream",
     "text": [
      "  0  0  0  0  0\n",
      "  0  0  0  0  0\n",
      "  0  0  0  0  0\n",
      "  0  0  0  0  0\n",
      "  0  0  3  2  0\n"
     ]
    }
   ],
   "source": [
    "g2 = Grid([[0,0,0,0,0],[0,0,0,0,0],[0,0,0,0,0],[0,0,0,0,0],[0,0,3,2,0]])\n",
    "print(g2)"
   ]
  },
  {
   "cell_type": "code",
   "execution_count": null,
   "metadata": {},
   "outputs": [],
   "source": [
    "def search(grid:Grid, columns:list):\n",
    "    queue = [columns]\n",
    "    while len(queue)>0:\n",
    "        candidate = queue.pop(0)\n",
    "        #print(f\"Candidate: {candidate}\")\n",
    "        result = grid.picks(candidate)\n",
    "        if result.is_zero():\n",
    "            return candidate\n",
    "        for j in range(5):\n",
    "            if result.grid[4][j] != 0:\n",
    "                next = candidate + [j]\n",
    "                queue.append(next)\n",
    "    "
   ]
  },
  {
   "cell_type": "code",
   "execution_count": null,
   "metadata": {},
   "outputs": [
    {
     "name": "stdout",
     "output_type": "stream",
     "text": [
      "Candidate: []\n",
      "[]\n"
     ]
    }
   ],
   "source": [
    "result = search(g0,[])\n",
    "print(result)"
   ]
  },
  {
   "cell_type": "code",
   "execution_count": null,
   "metadata": {},
   "outputs": [
    {
     "name": "stdout",
     "output_type": "stream",
     "text": [
      "Candidate: []\n",
      "Candidate: [2]\n",
      "[2]\n"
     ]
    }
   ],
   "source": [
    "result = search(g1,[])\n",
    "print(result)"
   ]
  },
  {
   "cell_type": "code",
   "execution_count": null,
   "metadata": {},
   "outputs": [
    {
     "name": "stdout",
     "output_type": "stream",
     "text": [
      "Candidate: [2]\n",
      "Candidate: [2, 3]\n",
      "[2, 3]\n"
     ]
    }
   ],
   "source": [
    "result = search(g2,[2])\n",
    "print(result)"
   ]
  },
  {
   "cell_type": "code",
   "execution_count": 62,
   "metadata": {},
   "outputs": [
    {
     "name": "stdout",
     "output_type": "stream",
     "text": [
      "  1  1  2  1  3\n",
      "  2  2  4  3  4\n",
      "  1  2  1  4  3\n",
      "  3  2  4  4  1\n",
      "  4  3  4  4  3\n",
      "Found [0, 0, 4, 2, 1, 3, 0, 2, 4] in 69.04775381088257 seconds\n"
     ]
    }
   ],
   "source": [
    "print(g)\n",
    "start = time.time()\n",
    "result = search(g,[])\n",
    "end = time.time()\n",
    "\n",
    "print(f\"Found {result} in {end-start} seconds\")\n"
   ]
  },
  {
   "cell_type": "code",
   "execution_count": null,
   "metadata": {},
   "outputs": [],
   "source": []
  }
 ],
 "metadata": {
  "kernelspec": {
   "display_name": "Python 3.9.5 64-bit",
   "language": "python",
   "name": "python3"
  }
 },
 "nbformat": 4,
 "nbformat_minor": 4
}
